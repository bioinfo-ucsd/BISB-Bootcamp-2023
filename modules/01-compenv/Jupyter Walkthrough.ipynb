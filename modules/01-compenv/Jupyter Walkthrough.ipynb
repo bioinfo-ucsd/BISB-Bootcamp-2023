{
 "cells": [
  {
   "cell_type": "markdown",
   "id": "c1a8cadb-4a9f-4d3d-a8cf-0f23fb32634d",
   "metadata": {},
   "source": [
    "# Jupyter Notebooks 101"
   ]
  },
  {
   "cell_type": "markdown",
   "id": "605e8215",
   "metadata": {},
   "source": [
    "## Kernels"
   ]
  },
  {
   "cell_type": "markdown",
   "id": "bdf8c596",
   "metadata": {},
   "source": [
    "A **kernel** is the computational environment that will run the notebook. This will define what programming language will run in the notebook's code cells (more on cells in a moment) and what packages are available. You can change the kernel from the \"Kernel\" menu in the top bar.\n",
    "> Your turn: change the kernel to \"Python [conda env:bootcamp]\" (if it isn't already)."
   ]
  },
  {
   "cell_type": "markdown",
   "id": "d013b09c",
   "metadata": {},
   "source": [
    "## Cells"
   ]
  },
  {
   "cell_type": "markdown",
   "id": "72c8c917",
   "metadata": {},
   "source": [
    "In Jupyter notebooks, **cells** are either where text is edited/displayed or code is run.\n",
    "\n",
    "Text cells, also called **Markdown** cells, are written in... Markdown! This is a simple language that let's us format text using code, rather than needing a word processor like MS Word or Apple Pages. You can see an example of a Markdown cell by double-clicking on this block of text. This will also let you edit the cell and see how the text here is being formatted with Markdown. After you're done editing the cell, you can render/run it by pressing **`Shift + Enter`** or clicking the \"Run\" button in the top bar.\n",
    "\n",
    "> Your turn: edit this cell to display your name, hometown, and favorite dessert\n",
    "\n",
    "* **Name:**\n",
    "* *Hometown:*\n",
    "* Favorite dessert:"
   ]
  },
  {
   "cell_type": "markdown",
   "id": "77cbc941",
   "metadata": {},
   "source": [
    "Next, let's talk about **code** cells such as the one below. In code cells, you can write code and run it by pressing **`Shift + Enter`** or clicking on the \"Run\" button in top bar.\n",
    "> Your turn: edit the cell to fill in the blanks."
   ]
  },
  {
   "cell_type": "code",
   "execution_count": 1,
   "id": "025e2905",
   "metadata": {},
   "outputs": [
    {
     "name": "stdout",
     "output_type": "stream",
     "text": [
      "Life is like a ___ box of ___. You never know what you're gonna get.\n"
     ]
    }
   ],
   "source": [
    "adjective = '___'\n",
    "plural_noun = '___'\n",
    "print(f\"Life is like a {adjective} box of {plural_noun}. You never know what you're gonna get.\")"
   ]
  },
  {
   "cell_type": "markdown",
   "id": "9d78defb",
   "metadata": {},
   "source": [
    "Next, try inserting a cell below. You can add a cell _**b**elow_ by pressing **`b`** or the \"+\" icon in the top bar."
   ]
  },
  {
   "cell_type": "markdown",
   "id": "6b70abcb",
   "metadata": {},
   "source": [
    "Once you have a new cell above this one, convert it to a _**M**arkdown_ cell by pressing **`m`** or by changing \"Code\" to \"Markdown\" from the drop down in the top bar."
   ]
  },
  {
   "cell_type": "markdown",
   "id": "14875e14",
   "metadata": {},
   "source": [
    "Finally, delete the cell you just created by selecting it and pressing **`d, d`** (i.e. d twice). Hint: you can find these hotkeys and more by pressing **`h`**."
   ]
  }
 ],
 "metadata": {
  "kernelspec": {
   "display_name": "Python [conda env:bootcamp]",
   "language": "python",
   "name": "conda-env-bootcamp-py"
  },
  "language_info": {
   "codemirror_mode": {
    "name": "ipython",
    "version": 3
   },
   "file_extension": ".py",
   "mimetype": "text/x-python",
   "name": "python",
   "nbconvert_exporter": "python",
   "pygments_lexer": "ipython3",
   "version": "3.9.18"
  }
 },
 "nbformat": 4,
 "nbformat_minor": 5
}
